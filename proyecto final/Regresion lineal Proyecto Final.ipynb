{
 "cells": [
  {
   "cell_type": "markdown",
   "id": "64cba888",
   "metadata": {},
   "source": [
    "<h3 style=\"color: #8ED2D9\"> 1.Importacion y revision de dataset con data limpia </h3> "
   ]
  },
  {
   "cell_type": "code",
   "execution_count": 1,
   "id": "f77870b0",
   "metadata": {},
   "outputs": [],
   "source": [
    "#Se importan las liberias necesarias\n",
    "import pandas as pd\n",
    "import numpy as np"
   ]
  },
  {
   "cell_type": "code",
   "execution_count": 2,
   "id": "74228f52",
   "metadata": {},
   "outputs": [
    {
     "data": {
      "text/html": [
       "<div>\n",
       "<style scoped>\n",
       "    .dataframe tbody tr th:only-of-type {\n",
       "        vertical-align: middle;\n",
       "    }\n",
       "\n",
       "    .dataframe tbody tr th {\n",
       "        vertical-align: top;\n",
       "    }\n",
       "\n",
       "    .dataframe thead th {\n",
       "        text-align: right;\n",
       "    }\n",
       "</style>\n",
       "<table border=\"1\" class=\"dataframe\">\n",
       "  <thead>\n",
       "    <tr style=\"text-align: right;\">\n",
       "      <th></th>\n",
       "      <th>ID</th>\n",
       "      <th>LIMIT_BAL</th>\n",
       "      <th>AGE</th>\n",
       "      <th>FEMALE</th>\n",
       "      <th>MALE</th>\n",
       "      <th>MARRIED</th>\n",
       "      <th>SINGLE</th>\n",
       "      <th>DIVORCED</th>\n",
       "      <th>OTHERS</th>\n",
       "      <th>GRADUATE SCHOOL</th>\n",
       "      <th>...</th>\n",
       "      <th>BILL_AMT5</th>\n",
       "      <th>BILL_AMT6</th>\n",
       "      <th>PAY_AMT1</th>\n",
       "      <th>PAY_AMT2</th>\n",
       "      <th>PAY_AMT3</th>\n",
       "      <th>PAY_AMT4</th>\n",
       "      <th>PAY_AMT5</th>\n",
       "      <th>PAY_AMT6</th>\n",
       "      <th>DEFAULT</th>\n",
       "      <th>NOT DEFAULT</th>\n",
       "    </tr>\n",
       "  </thead>\n",
       "  <tbody>\n",
       "    <tr>\n",
       "      <th>0</th>\n",
       "      <td>1</td>\n",
       "      <td>20000</td>\n",
       "      <td>24</td>\n",
       "      <td>1</td>\n",
       "      <td>0</td>\n",
       "      <td>1</td>\n",
       "      <td>0</td>\n",
       "      <td>0</td>\n",
       "      <td>0</td>\n",
       "      <td>0</td>\n",
       "      <td>...</td>\n",
       "      <td>0</td>\n",
       "      <td>0</td>\n",
       "      <td>0</td>\n",
       "      <td>689</td>\n",
       "      <td>0</td>\n",
       "      <td>0</td>\n",
       "      <td>0</td>\n",
       "      <td>0</td>\n",
       "      <td>1</td>\n",
       "      <td>0</td>\n",
       "    </tr>\n",
       "    <tr>\n",
       "      <th>1</th>\n",
       "      <td>2</td>\n",
       "      <td>120000</td>\n",
       "      <td>26</td>\n",
       "      <td>1</td>\n",
       "      <td>0</td>\n",
       "      <td>0</td>\n",
       "      <td>1</td>\n",
       "      <td>0</td>\n",
       "      <td>0</td>\n",
       "      <td>0</td>\n",
       "      <td>...</td>\n",
       "      <td>3455</td>\n",
       "      <td>3261</td>\n",
       "      <td>0</td>\n",
       "      <td>1000</td>\n",
       "      <td>1000</td>\n",
       "      <td>1000</td>\n",
       "      <td>0</td>\n",
       "      <td>2000</td>\n",
       "      <td>1</td>\n",
       "      <td>0</td>\n",
       "    </tr>\n",
       "    <tr>\n",
       "      <th>2</th>\n",
       "      <td>3</td>\n",
       "      <td>90000</td>\n",
       "      <td>34</td>\n",
       "      <td>1</td>\n",
       "      <td>0</td>\n",
       "      <td>0</td>\n",
       "      <td>1</td>\n",
       "      <td>0</td>\n",
       "      <td>0</td>\n",
       "      <td>0</td>\n",
       "      <td>...</td>\n",
       "      <td>14948</td>\n",
       "      <td>15549</td>\n",
       "      <td>1518</td>\n",
       "      <td>1500</td>\n",
       "      <td>1000</td>\n",
       "      <td>1000</td>\n",
       "      <td>1000</td>\n",
       "      <td>5000</td>\n",
       "      <td>0</td>\n",
       "      <td>1</td>\n",
       "    </tr>\n",
       "    <tr>\n",
       "      <th>3</th>\n",
       "      <td>4</td>\n",
       "      <td>50000</td>\n",
       "      <td>37</td>\n",
       "      <td>1</td>\n",
       "      <td>0</td>\n",
       "      <td>1</td>\n",
       "      <td>0</td>\n",
       "      <td>0</td>\n",
       "      <td>0</td>\n",
       "      <td>0</td>\n",
       "      <td>...</td>\n",
       "      <td>28959</td>\n",
       "      <td>29547</td>\n",
       "      <td>2000</td>\n",
       "      <td>2019</td>\n",
       "      <td>1200</td>\n",
       "      <td>1100</td>\n",
       "      <td>1069</td>\n",
       "      <td>1000</td>\n",
       "      <td>0</td>\n",
       "      <td>1</td>\n",
       "    </tr>\n",
       "    <tr>\n",
       "      <th>4</th>\n",
       "      <td>5</td>\n",
       "      <td>50000</td>\n",
       "      <td>57</td>\n",
       "      <td>0</td>\n",
       "      <td>1</td>\n",
       "      <td>1</td>\n",
       "      <td>0</td>\n",
       "      <td>0</td>\n",
       "      <td>0</td>\n",
       "      <td>0</td>\n",
       "      <td>...</td>\n",
       "      <td>19146</td>\n",
       "      <td>19131</td>\n",
       "      <td>2000</td>\n",
       "      <td>36681</td>\n",
       "      <td>10000</td>\n",
       "      <td>9000</td>\n",
       "      <td>689</td>\n",
       "      <td>679</td>\n",
       "      <td>0</td>\n",
       "      <td>1</td>\n",
       "    </tr>\n",
       "  </tbody>\n",
       "</table>\n",
       "<p>5 rows × 33 columns</p>\n",
       "</div>"
      ],
      "text/plain": [
       "   ID  LIMIT_BAL  AGE  FEMALE  MALE  MARRIED  SINGLE  DIVORCED  OTHERS  \\\n",
       "0   1      20000   24       1     0        1       0         0       0   \n",
       "1   2     120000   26       1     0        0       1         0       0   \n",
       "2   3      90000   34       1     0        0       1         0       0   \n",
       "3   4      50000   37       1     0        1       0         0       0   \n",
       "4   5      50000   57       0     1        1       0         0       0   \n",
       "\n",
       "   GRADUATE SCHOOL  ...  BILL_AMT5  BILL_AMT6  PAY_AMT1  PAY_AMT2  PAY_AMT3  \\\n",
       "0                0  ...          0          0         0       689         0   \n",
       "1                0  ...       3455       3261         0      1000      1000   \n",
       "2                0  ...      14948      15549      1518      1500      1000   \n",
       "3                0  ...      28959      29547      2000      2019      1200   \n",
       "4                0  ...      19146      19131      2000     36681     10000   \n",
       "\n",
       "   PAY_AMT4  PAY_AMT5  PAY_AMT6  DEFAULT  NOT DEFAULT  \n",
       "0         0         0         0        1            0  \n",
       "1      1000         0      2000        1            0  \n",
       "2      1000      1000      5000        0            1  \n",
       "3      1100      1069      1000        0            1  \n",
       "4      9000       689       679        0            1  \n",
       "\n",
       "[5 rows x 33 columns]"
      ]
     },
     "execution_count": 2,
     "metadata": {},
     "output_type": "execute_result"
    }
   ],
   "source": [
    "#Se importa el csv con la data limpia\n",
    "#Se utiliza el codigo sep, porque el archivo se delimita por comas  \",\"\n",
    "#Se utliza el codigo index_col, para utlizar la primer columna como index\n",
    "rawData = pd.read_csv('default of credit card clients.csv', sep=\",\",index_col=0)\n",
    "rawData.head()"
   ]
  },
  {
   "cell_type": "code",
   "execution_count": 3,
   "id": "665bc299",
   "metadata": {},
   "outputs": [
    {
     "data": {
      "text/plain": [
       "Index(['ID', 'LIMIT_BAL', 'AGE', 'FEMALE', 'MALE', 'MARRIED', 'SINGLE',\n",
       "       'DIVORCED', 'OTHERS', 'GRADUATE SCHOOL', 'HIGH SCHOOL', 'UNIVERSITY',\n",
       "       'OTHER', 'PAY_0', 'PAY_2', 'PAY_3', 'PAY_4', 'PAY_5', 'PAY_6',\n",
       "       'BILL_AMT1', 'BILL_AMT2', 'BILL_AMT3', 'BILL_AMT4', 'BILL_AMT5',\n",
       "       'BILL_AMT6', 'PAY_AMT1', 'PAY_AMT2', 'PAY_AMT3', 'PAY_AMT4', 'PAY_AMT5',\n",
       "       'PAY_AMT6', 'DEFAULT', 'NOT DEFAULT'],\n",
       "      dtype='object')"
      ]
     },
     "execution_count": 3,
     "metadata": {},
     "output_type": "execute_result"
    }
   ],
   "source": [
    "rawData.columns"
   ]
  },
  {
   "cell_type": "code",
   "execution_count": 4,
   "id": "c7d488b0",
   "metadata": {},
   "outputs": [
    {
     "name": "stdout",
     "output_type": "stream",
     "text": [
      "<class 'pandas.core.frame.DataFrame'>\n",
      "Int64Index: 30000 entries, 0 to 30202\n",
      "Data columns (total 33 columns):\n",
      " #   Column           Non-Null Count  Dtype\n",
      "---  ------           --------------  -----\n",
      " 0   ID               30000 non-null  int64\n",
      " 1   LIMIT_BAL        30000 non-null  int64\n",
      " 2   AGE              30000 non-null  int64\n",
      " 3   FEMALE           30000 non-null  int64\n",
      " 4   MALE             30000 non-null  int64\n",
      " 5   MARRIED          30000 non-null  int64\n",
      " 6   SINGLE           30000 non-null  int64\n",
      " 7   DIVORCED         30000 non-null  int64\n",
      " 8   OTHERS           30000 non-null  int64\n",
      " 9   GRADUATE SCHOOL  30000 non-null  int64\n",
      " 10  HIGH SCHOOL      30000 non-null  int64\n",
      " 11  UNIVERSITY       30000 non-null  int64\n",
      " 12  OTHER            30000 non-null  int64\n",
      " 13  PAY_0            30000 non-null  int64\n",
      " 14  PAY_2            30000 non-null  int64\n",
      " 15  PAY_3            30000 non-null  int64\n",
      " 16  PAY_4            30000 non-null  int64\n",
      " 17  PAY_5            30000 non-null  int64\n",
      " 18  PAY_6            30000 non-null  int64\n",
      " 19  BILL_AMT1        30000 non-null  int64\n",
      " 20  BILL_AMT2        30000 non-null  int64\n",
      " 21  BILL_AMT3        30000 non-null  int64\n",
      " 22  BILL_AMT4        30000 non-null  int64\n",
      " 23  BILL_AMT5        30000 non-null  int64\n",
      " 24  BILL_AMT6        30000 non-null  int64\n",
      " 25  PAY_AMT1         30000 non-null  int64\n",
      " 26  PAY_AMT2         30000 non-null  int64\n",
      " 27  PAY_AMT3         30000 non-null  int64\n",
      " 28  PAY_AMT4         30000 non-null  int64\n",
      " 29  PAY_AMT5         30000 non-null  int64\n",
      " 30  PAY_AMT6         30000 non-null  int64\n",
      " 31  DEFAULT          30000 non-null  int64\n",
      " 32  NOT DEFAULT      30000 non-null  int64\n",
      "dtypes: int64(33)\n",
      "memory usage: 7.8 MB\n"
     ]
    }
   ],
   "source": [
    "#Se revisan las variables\n",
    "rawData.info()"
   ]
  },
  {
   "cell_type": "markdown",
   "id": "c417c5eb",
   "metadata": {},
   "source": [
    "<h3 style=\"color: #8ED2D9\"> 2.Seleccion de variables para machine learning</h3> "
   ]
  },
  {
   "cell_type": "code",
   "execution_count": 5,
   "id": "3f69cbf5",
   "metadata": {},
   "outputs": [
    {
     "data": {
      "text/html": [
       "<div>\n",
       "<style scoped>\n",
       "    .dataframe tbody tr th:only-of-type {\n",
       "        vertical-align: middle;\n",
       "    }\n",
       "\n",
       "    .dataframe tbody tr th {\n",
       "        vertical-align: top;\n",
       "    }\n",
       "\n",
       "    .dataframe thead th {\n",
       "        text-align: right;\n",
       "    }\n",
       "</style>\n",
       "<table border=\"1\" class=\"dataframe\">\n",
       "  <thead>\n",
       "    <tr style=\"text-align: right;\">\n",
       "      <th></th>\n",
       "      <th>PAY_0</th>\n",
       "      <th>PAY_2</th>\n",
       "      <th>PAY_3</th>\n",
       "      <th>PAY_4</th>\n",
       "      <th>PAY_5</th>\n",
       "      <th>PAY_6</th>\n",
       "    </tr>\n",
       "  </thead>\n",
       "  <tbody>\n",
       "    <tr>\n",
       "      <th>0</th>\n",
       "      <td>2</td>\n",
       "      <td>2</td>\n",
       "      <td>-1</td>\n",
       "      <td>-1</td>\n",
       "      <td>-2</td>\n",
       "      <td>-2</td>\n",
       "    </tr>\n",
       "    <tr>\n",
       "      <th>1</th>\n",
       "      <td>-1</td>\n",
       "      <td>2</td>\n",
       "      <td>0</td>\n",
       "      <td>0</td>\n",
       "      <td>0</td>\n",
       "      <td>2</td>\n",
       "    </tr>\n",
       "    <tr>\n",
       "      <th>2</th>\n",
       "      <td>0</td>\n",
       "      <td>0</td>\n",
       "      <td>0</td>\n",
       "      <td>0</td>\n",
       "      <td>0</td>\n",
       "      <td>0</td>\n",
       "    </tr>\n",
       "    <tr>\n",
       "      <th>3</th>\n",
       "      <td>0</td>\n",
       "      <td>0</td>\n",
       "      <td>0</td>\n",
       "      <td>0</td>\n",
       "      <td>0</td>\n",
       "      <td>0</td>\n",
       "    </tr>\n",
       "    <tr>\n",
       "      <th>4</th>\n",
       "      <td>-1</td>\n",
       "      <td>0</td>\n",
       "      <td>-1</td>\n",
       "      <td>0</td>\n",
       "      <td>0</td>\n",
       "      <td>0</td>\n",
       "    </tr>\n",
       "    <tr>\n",
       "      <th>...</th>\n",
       "      <td>...</td>\n",
       "      <td>...</td>\n",
       "      <td>...</td>\n",
       "      <td>...</td>\n",
       "      <td>...</td>\n",
       "      <td>...</td>\n",
       "    </tr>\n",
       "    <tr>\n",
       "      <th>30198</th>\n",
       "      <td>0</td>\n",
       "      <td>0</td>\n",
       "      <td>0</td>\n",
       "      <td>0</td>\n",
       "      <td>0</td>\n",
       "      <td>0</td>\n",
       "    </tr>\n",
       "    <tr>\n",
       "      <th>30199</th>\n",
       "      <td>-1</td>\n",
       "      <td>-1</td>\n",
       "      <td>-1</td>\n",
       "      <td>-1</td>\n",
       "      <td>0</td>\n",
       "      <td>0</td>\n",
       "    </tr>\n",
       "    <tr>\n",
       "      <th>30200</th>\n",
       "      <td>4</td>\n",
       "      <td>3</td>\n",
       "      <td>2</td>\n",
       "      <td>-1</td>\n",
       "      <td>0</td>\n",
       "      <td>0</td>\n",
       "    </tr>\n",
       "    <tr>\n",
       "      <th>30201</th>\n",
       "      <td>1</td>\n",
       "      <td>-1</td>\n",
       "      <td>0</td>\n",
       "      <td>0</td>\n",
       "      <td>0</td>\n",
       "      <td>-1</td>\n",
       "    </tr>\n",
       "    <tr>\n",
       "      <th>30202</th>\n",
       "      <td>0</td>\n",
       "      <td>0</td>\n",
       "      <td>0</td>\n",
       "      <td>0</td>\n",
       "      <td>0</td>\n",
       "      <td>0</td>\n",
       "    </tr>\n",
       "  </tbody>\n",
       "</table>\n",
       "<p>30000 rows × 6 columns</p>\n",
       "</div>"
      ],
      "text/plain": [
       "       PAY_0  PAY_2  PAY_3  PAY_4  PAY_5  PAY_6\n",
       "0          2      2     -1     -1     -2     -2\n",
       "1         -1      2      0      0      0      2\n",
       "2          0      0      0      0      0      0\n",
       "3          0      0      0      0      0      0\n",
       "4         -1      0     -1      0      0      0\n",
       "...      ...    ...    ...    ...    ...    ...\n",
       "30198      0      0      0      0      0      0\n",
       "30199     -1     -1     -1     -1      0      0\n",
       "30200      4      3      2     -1      0      0\n",
       "30201      1     -1      0      0      0     -1\n",
       "30202      0      0      0      0      0      0\n",
       "\n",
       "[30000 rows x 6 columns]"
      ]
     },
     "execution_count": 5,
     "metadata": {},
     "output_type": "execute_result"
    }
   ],
   "source": [
    "#Definicions de variables independientes\n",
    "x = rawData.iloc[:,13:19]\n",
    "x"
   ]
  },
  {
   "cell_type": "code",
   "execution_count": 6,
   "id": "510a9c62",
   "metadata": {},
   "outputs": [
    {
     "data": {
      "text/plain": [
       "0        0\n",
       "1        0\n",
       "2        1\n",
       "3        1\n",
       "4        1\n",
       "        ..\n",
       "30198    1\n",
       "30199    1\n",
       "30200    0\n",
       "30201    0\n",
       "30202    0\n",
       "Name: NOT DEFAULT, Length: 30000, dtype: int64"
      ]
     },
     "execution_count": 6,
     "metadata": {},
     "output_type": "execute_result"
    }
   ],
   "source": [
    "#Definicion de variable dependiente\n",
    "y = rawData[\"NOT DEFAULT\"]\n",
    "y"
   ]
  },
  {
   "cell_type": "markdown",
   "id": "18802472",
   "metadata": {},
   "source": [
    "<h3 style=\"color: #8ED2D9\"> 3. Seleccion del modelo correcto de prediccion </h3> "
   ]
  },
  {
   "cell_type": "code",
   "execution_count": 7,
   "id": "d646a1eb",
   "metadata": {},
   "outputs": [],
   "source": [
    "#Importacion de liberia Sklearn\n",
    "from sklearn.linear_model import LinearRegression"
   ]
  },
  {
   "cell_type": "code",
   "execution_count": 8,
   "id": "6679ca1e",
   "metadata": {},
   "outputs": [],
   "source": [
    "model=LinearRegression()"
   ]
  },
  {
   "cell_type": "code",
   "execution_count": 9,
   "id": "685c7b09",
   "metadata": {},
   "outputs": [],
   "source": [
    "# Importacion de liberias\n",
    "import numpy as np\n",
    "import pandas as pd\n",
    "import scipy \n",
    "from math import sqrt\n",
    "import matplotlib.pyplot as plt\n",
    "\n",
    "#Importacion de estimadores\n",
    "\n",
    "from sklearn.ensemble import RandomForestRegressor\n",
    "from sklearn.linear_model import LinearRegression\n",
    "from sklearn.svm import SVR\n",
    "\n",
    "# Modelo de metricas\n",
    "\n",
    "from sklearn.metrics import mean_squared_error\n",
    "from sklearn.metrics import r2_score\n",
    "from sklearn.model_selection import cross_val_score\n",
    "\n",
    "#Validacion cruzada\n",
    "#from sklearn.cross_validation  import  train_test_split\n",
    "from sklearn.model_selection import train_test_split"
   ]
  },
  {
   "cell_type": "code",
   "execution_count": 10,
   "id": "bd77f525",
   "metadata": {},
   "outputs": [
    {
     "name": "stdout",
     "output_type": "stream",
     "text": [
      "[0.0936071  0.11887959 0.11223656]\n"
     ]
    }
   ],
   "source": [
    "#Validacion cruzada para cada modelo\n",
    "print(cross_val_score(model,x,y,cv=3))"
   ]
  },
  {
   "cell_type": "code",
   "execution_count": 11,
   "id": "fae781e5",
   "metadata": {},
   "outputs": [],
   "source": [
    "#Creacion de listas para cada algoritmo de regression\n",
    "\n",
    "algosClass=[]\n",
    "\n",
    "algosClass.append((\"Random Forest Regressor\",RandomForestRegressor()))\n",
    "\n",
    "algosClass.append((\"Linear Regression\",LinearRegression()))\n",
    "\n",
    "algosClass.append((\"Support Vector Regression\",SVR()))"
   ]
  },
  {
   "cell_type": "code",
   "execution_count": 12,
   "id": "1a4ec1a2",
   "metadata": {},
   "outputs": [
    {
     "name": "stdout",
     "output_type": "stream",
     "text": [
      "Random Forest Regressor 0.17294344978826523\n",
      "Linear Regression 0.10824108525601357\n",
      "Support Vector Regression 0.1239847810059694\n"
     ]
    }
   ],
   "source": [
    "#Algoritmo para obtener r2 al cuadrado para cada modelo de regresion\n",
    "results=[]\n",
    "names=[]\n",
    "\n",
    "for name, model in algosClass:\n",
    "        result=cross_val_score(model,x,y,cv=3,scoring=\"r2\")\n",
    "        names.append(name)\n",
    "        results.append(result)\n",
    "        \n",
    "for i in range (len(names)):\n",
    "    print(names[i],results[i].mean())"
   ]
  },
  {
   "cell_type": "markdown",
   "id": "c884439b",
   "metadata": {},
   "source": [
    "<p><b>Segun la revision de los resultados, se utlizara el modelo de Ramdon Forest Regressor, \n",
    "ya que tiene la puntuacion mas lata de los 3 modelos<p><b>"
   ]
  },
  {
   "cell_type": "markdown",
   "id": "2fe1f1e7",
   "metadata": {},
   "source": [
    "<h3 style=\"color: #8ED2D9\"> 4. Division de la data y aplicacion de modelo seleccionado </h3> "
   ]
  },
  {
   "cell_type": "code",
   "execution_count": 13,
   "id": "d70d5bf0",
   "metadata": {},
   "outputs": [
    {
     "name": "stdout",
     "output_type": "stream",
     "text": [
      "(24000, 6) (6000, 6) (24000,) (6000,)\n"
     ]
    }
   ],
   "source": [
    "#Division del set datos en 20% en test y 80% en train\n",
    "x_train, x_test, y_train, y_test = train_test_split(x, y, test_size=0.20)\n",
    "print(x_train.shape, x_test.shape, y_train.shape, y_test.shape)"
   ]
  },
  {
   "cell_type": "code",
   "execution_count": 14,
   "id": "ffdb5610",
   "metadata": {},
   "outputs": [],
   "source": [
    "#Seleccion de modelo y puesta de variables de entrenamiento\n",
    "algo=RandomForestRegressor()\n",
    "\n",
    "models=algo.fit(x_train,y_train)"
   ]
  },
  {
   "cell_type": "code",
   "execution_count": 15,
   "id": "13b7a7ed",
   "metadata": {},
   "outputs": [],
   "source": [
    "#Puesta en marcha de predicciones del modelo\n",
    "predictions=models.predict(x_test)"
   ]
  },
  {
   "cell_type": "code",
   "execution_count": 16,
   "id": "cff7abf4",
   "metadata": {},
   "outputs": [],
   "source": [
    "#Importacion de librerias de metricas MSE (error cuadratico medio) Y R2 (error cuadratico)\n",
    "from sklearn.metrics import mean_squared_error\n",
    "from sklearn.metrics import r2_score\n",
    "from math import sqrt"
   ]
  },
  {
   "cell_type": "code",
   "execution_count": 17,
   "id": "dd67238a",
   "metadata": {},
   "outputs": [],
   "source": [
    "#Algoritmo para calcular RMSE (Raiz del erro cuadratico medio (MSE)) y comparar las predicciones\n",
    "rmse=sqrt(mean_squared_error(y_test,predictions))"
   ]
  },
  {
   "cell_type": "code",
   "execution_count": 18,
   "id": "841104b3",
   "metadata": {},
   "outputs": [],
   "source": [
    "#Algoritmo para comparar las predcciones con r2\n",
    "predRsquared=r2_score(y_test,predictions)"
   ]
  },
  {
   "cell_type": "code",
   "execution_count": 19,
   "id": "d14f16a3",
   "metadata": {},
   "outputs": [
    {
     "name": "stdout",
     "output_type": "stream",
     "text": [
      "R squared: 0.176\n",
      "RMSE:0.379\n"
     ]
    }
   ],
   "source": [
    "print(\"R squared: %.3f\" % predRsquared)\n",
    "print(\"RMSE:%.3f\" % rmse)"
   ]
  },
  {
   "cell_type": "markdown",
   "id": "8007cc09",
   "metadata": {},
   "source": [
    "<h3 style=\"color: #8ED2D9\">5.Graficado de predicciones del modelo </h3> "
   ]
  },
  {
   "cell_type": "code",
   "execution_count": 20,
   "id": "4baf456c",
   "metadata": {},
   "outputs": [
    {
     "data": {
      "image/png": "[encoded data removed]",
      "text/plain": [
       "<Figure size 432x288 with 1 Axes>"
      ]
     },
     "metadata": {
      "needs_background": "light"
     },
     "output_type": "display_data"
    }
   ],
   "source": [
    "import matplotlib.pyplot as plt\n",
    "%matplotlib inline\n",
    "\n",
    "plt.scatter(x=y_test,y=predictions)\n",
    "plt.xlabel(\"Ground truth\")\n",
    "plt.ylabel(\"Predictions\")\n",
    "plt.show()"
   ]
  },
  {
   "cell_type": "code",
   "execution_count": 21,
   "id": "f5f40b99",
   "metadata": {},
   "outputs": [
    {
     "data": {
      "text/html": [
       "<div>\n",
       "<style scoped>\n",
       "    .dataframe tbody tr th:only-of-type {\n",
       "        vertical-align: middle;\n",
       "    }\n",
       "\n",
       "    .dataframe tbody tr th {\n",
       "        vertical-align: top;\n",
       "    }\n",
       "\n",
       "    .dataframe thead th {\n",
       "        text-align: right;\n",
       "    }\n",
       "</style>\n",
       "<table border=\"1\" class=\"dataframe\">\n",
       "  <thead>\n",
       "    <tr style=\"text-align: right;\">\n",
       "      <th></th>\n",
       "      <th>Actual</th>\n",
       "      <th>Predicted</th>\n",
       "    </tr>\n",
       "  </thead>\n",
       "  <tbody>\n",
       "    <tr>\n",
       "      <th>13014</th>\n",
       "      <td>1</td>\n",
       "      <td>0.388591</td>\n",
       "    </tr>\n",
       "    <tr>\n",
       "      <th>10511</th>\n",
       "      <td>1</td>\n",
       "      <td>0.878680</td>\n",
       "    </tr>\n",
       "    <tr>\n",
       "      <th>1655</th>\n",
       "      <td>1</td>\n",
       "      <td>0.868429</td>\n",
       "    </tr>\n",
       "    <tr>\n",
       "      <th>9324</th>\n",
       "      <td>1</td>\n",
       "      <td>0.895615</td>\n",
       "    </tr>\n",
       "    <tr>\n",
       "      <th>27205</th>\n",
       "      <td>1</td>\n",
       "      <td>0.895615</td>\n",
       "    </tr>\n",
       "    <tr>\n",
       "      <th>...</th>\n",
       "      <td>...</td>\n",
       "      <td>...</td>\n",
       "    </tr>\n",
       "    <tr>\n",
       "      <th>3836</th>\n",
       "      <td>0</td>\n",
       "      <td>0.672827</td>\n",
       "    </tr>\n",
       "    <tr>\n",
       "      <th>28830</th>\n",
       "      <td>1</td>\n",
       "      <td>0.856534</td>\n",
       "    </tr>\n",
       "    <tr>\n",
       "      <th>18576</th>\n",
       "      <td>1</td>\n",
       "      <td>0.494107</td>\n",
       "    </tr>\n",
       "    <tr>\n",
       "      <th>30028</th>\n",
       "      <td>1</td>\n",
       "      <td>0.895615</td>\n",
       "    </tr>\n",
       "    <tr>\n",
       "      <th>21011</th>\n",
       "      <td>0</td>\n",
       "      <td>0.701838</td>\n",
       "    </tr>\n",
       "  </tbody>\n",
       "</table>\n",
       "<p>6000 rows × 2 columns</p>\n",
       "</div>"
      ],
      "text/plain": [
       "       Actual  Predicted\n",
       "13014       1   0.388591\n",
       "10511       1   0.878680\n",
       "1655        1   0.868429\n",
       "9324        1   0.895615\n",
       "27205       1   0.895615\n",
       "...       ...        ...\n",
       "3836        0   0.672827\n",
       "28830       1   0.856534\n",
       "18576       1   0.494107\n",
       "30028       1   0.895615\n",
       "21011       0   0.701838\n",
       "\n",
       "[6000 rows x 2 columns]"
      ]
     },
     "execution_count": 21,
     "metadata": {},
     "output_type": "execute_result"
    }
   ],
   "source": [
    "rawData2 = pd.DataFrame({'Actual': y_test, 'Predicted': predictions})\n",
    "rawData2"
   ]
  },
  {
   "cell_type": "code",
   "execution_count": 22,
   "id": "d52f8215",
   "metadata": {},
   "outputs": [
    {
     "data": {
      "image/png": "[encoded data removed]",
      "text/plain": [
       "<Figure size 1152x504 with 1 Axes>"
      ]
     },
     "metadata": {
      "needs_background": "light"
     },
     "output_type": "display_data"
    }
   ],
   "source": [
    "rawData3 = rawData2.head(25)\n",
    "rawData3.plot(kind='bar',figsize=(16,7))\n",
    "plt.grid(which='major', linestyle='-', linewidth='0.5', color='green')\n",
    "plt.grid(which='minor', linestyle=':', linewidth='0.5', color='black')\n",
    "plt.show()"
   ]
  },
  {
   "cell_type": "markdown",
   "id": "e81ae2f3",
   "metadata": {},
   "source": [
    "<p><b> De los resultados anteriores, se puede decir que los valores superiores a 0.5, \n",
    "son Not Default,por tanto esos ID de clientes no recibiran un prestamo, por probabilidad de incumplimiento. Y valores superiores a 0.5, seran Default, por consiguiente, esos ID de clientes, si recibiran el prestamo, por tener probabilidad de pago. <p><b>"
   ]
  }
 ],
 "metadata": {
  "kernelspec": {
   "display_name": "Python 3 (ipykernel)",
   "language": "python",
   "name": "python3"
  },
  "language_info": {
   "codemirror_mode": {
    "name": "ipython",
    "version": 3
   },
   "file_extension": ".py",
   "mimetype": "text/x-python",
   "name": "python",
   "nbconvert_exporter": "python",
   "pygments_lexer": "ipython3",
   "version": "3.9.7"
  }
 },
 "nbformat": 4,
 "nbformat_minor": 5
}
