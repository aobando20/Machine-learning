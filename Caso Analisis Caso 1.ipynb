{
 "cells": [
  {
   "cell_type": "markdown",
   "id": "69b5f1e6",
   "metadata": {},
   "source": [
    "<h2> CSV con informacion geográfica básica de los países del mundo <h2>"
   ]
  },
  {
   "cell_type": "code",
   "execution_count": 1,
   "id": "285d7e0b",
   "metadata": {},
   "outputs": [],
   "source": [
    "#Importacion de librerias necesarias\n",
    "\n",
    "import pandas as pd\n",
    "import numpy as np\n",
    "import matplotlib.pyplot as plt\n",
    "import statsmodels.api as sm\n",
    "import seaborn as sns\n",
    "%matplotlib inline"
   ]
  },
  {
   "cell_type": "code",
   "execution_count": 2,
   "id": "5442a01b",
   "metadata": {},
   "outputs": [
    {
     "data": {
      "text/html": [
       "<div>\n",
       "<style scoped>\n",
       "    .dataframe tbody tr th:only-of-type {\n",
       "        vertical-align: middle;\n",
       "    }\n",
       "\n",
       "    .dataframe tbody tr th {\n",
       "        vertical-align: top;\n",
       "    }\n",
       "\n",
       "    .dataframe thead th {\n",
       "        text-align: right;\n",
       "    }\n",
       "</style>\n",
       "<table border=\"1\" class=\"dataframe\">\n",
       "  <thead>\n",
       "    <tr style=\"text-align: right;\">\n",
       "      <th></th>\n",
       "      <th>alpha_2</th>\n",
       "      <th>alpha_3</th>\n",
       "      <th>area</th>\n",
       "      <th>capital</th>\n",
       "      <th>continent</th>\n",
       "      <th>currency_code</th>\n",
       "      <th>currency_name</th>\n",
       "      <th>eqivalent_fips_code</th>\n",
       "      <th>fips</th>\n",
       "      <th>geoname_id</th>\n",
       "      <th>languages</th>\n",
       "      <th>name</th>\n",
       "      <th>neighbours</th>\n",
       "      <th>numeric</th>\n",
       "      <th>phone</th>\n",
       "      <th>population</th>\n",
       "      <th>postal_code_format</th>\n",
       "      <th>postal_code_regex</th>\n",
       "      <th>tld</th>\n",
       "    </tr>\n",
       "  </thead>\n",
       "  <tbody>\n",
       "    <tr>\n",
       "      <th>0</th>\n",
       "      <td>AD</td>\n",
       "      <td>AND</td>\n",
       "      <td>468.0</td>\n",
       "      <td>Andorra la Vella</td>\n",
       "      <td>EU</td>\n",
       "      <td>EUR</td>\n",
       "      <td>Euro</td>\n",
       "      <td>NaN</td>\n",
       "      <td>AN</td>\n",
       "      <td>3041565</td>\n",
       "      <td>ca</td>\n",
       "      <td>Andorra</td>\n",
       "      <td>ES,FR</td>\n",
       "      <td>20</td>\n",
       "      <td>376</td>\n",
       "      <td>84000</td>\n",
       "      <td>AD###</td>\n",
       "      <td>^(?:AD)*(\\d{3})$</td>\n",
       "      <td>.ad</td>\n",
       "    </tr>\n",
       "    <tr>\n",
       "      <th>1</th>\n",
       "      <td>AE</td>\n",
       "      <td>ARE</td>\n",
       "      <td>82880.0</td>\n",
       "      <td>Abu Dhabi</td>\n",
       "      <td>AS</td>\n",
       "      <td>AED</td>\n",
       "      <td>Dirham</td>\n",
       "      <td>NaN</td>\n",
       "      <td>AE</td>\n",
       "      <td>290557</td>\n",
       "      <td>ar-AE,fa,en,hi,ur</td>\n",
       "      <td>United Arab Emirates</td>\n",
       "      <td>SA,OM</td>\n",
       "      <td>784</td>\n",
       "      <td>971</td>\n",
       "      <td>4975593</td>\n",
       "      <td>NaN</td>\n",
       "      <td>NaN</td>\n",
       "      <td>.ae</td>\n",
       "    </tr>\n",
       "    <tr>\n",
       "      <th>2</th>\n",
       "      <td>AF</td>\n",
       "      <td>AFG</td>\n",
       "      <td>647500.0</td>\n",
       "      <td>Kabul</td>\n",
       "      <td>AS</td>\n",
       "      <td>AFN</td>\n",
       "      <td>Afghani</td>\n",
       "      <td>NaN</td>\n",
       "      <td>AF</td>\n",
       "      <td>1149361</td>\n",
       "      <td>fa-AF,ps,uz-AF,tk</td>\n",
       "      <td>Afghanistan</td>\n",
       "      <td>TM,CN,IR,TJ,PK,UZ</td>\n",
       "      <td>4</td>\n",
       "      <td>93</td>\n",
       "      <td>29121286</td>\n",
       "      <td>NaN</td>\n",
       "      <td>NaN</td>\n",
       "      <td>.af</td>\n",
       "    </tr>\n",
       "    <tr>\n",
       "      <th>3</th>\n",
       "      <td>AG</td>\n",
       "      <td>ATG</td>\n",
       "      <td>443.0</td>\n",
       "      <td>St. John's</td>\n",
       "      <td>NaN</td>\n",
       "      <td>XCD</td>\n",
       "      <td>Dollar</td>\n",
       "      <td>NaN</td>\n",
       "      <td>AC</td>\n",
       "      <td>3576396</td>\n",
       "      <td>en-AG</td>\n",
       "      <td>Antigua and Barbuda</td>\n",
       "      <td>NaN</td>\n",
       "      <td>28</td>\n",
       "      <td>+1-268</td>\n",
       "      <td>86754</td>\n",
       "      <td>NaN</td>\n",
       "      <td>NaN</td>\n",
       "      <td>.ag</td>\n",
       "    </tr>\n",
       "    <tr>\n",
       "      <th>4</th>\n",
       "      <td>AI</td>\n",
       "      <td>AIA</td>\n",
       "      <td>102.0</td>\n",
       "      <td>The Valley</td>\n",
       "      <td>NaN</td>\n",
       "      <td>XCD</td>\n",
       "      <td>Dollar</td>\n",
       "      <td>NaN</td>\n",
       "      <td>AV</td>\n",
       "      <td>3573511</td>\n",
       "      <td>en-AI</td>\n",
       "      <td>Anguilla</td>\n",
       "      <td>NaN</td>\n",
       "      <td>660</td>\n",
       "      <td>+1-264</td>\n",
       "      <td>13254</td>\n",
       "      <td>NaN</td>\n",
       "      <td>NaN</td>\n",
       "      <td>.ai</td>\n",
       "    </tr>\n",
       "  </tbody>\n",
       "</table>\n",
       "</div>"
      ],
      "text/plain": [
       "  alpha_2 alpha_3      area           capital continent currency_code  \\\n",
       "0      AD     AND     468.0  Andorra la Vella        EU           EUR   \n",
       "1      AE     ARE   82880.0         Abu Dhabi        AS           AED   \n",
       "2      AF     AFG  647500.0             Kabul        AS           AFN   \n",
       "3      AG     ATG     443.0        St. John's       NaN           XCD   \n",
       "4      AI     AIA     102.0        The Valley       NaN           XCD   \n",
       "\n",
       "  currency_name eqivalent_fips_code fips  geoname_id          languages  \\\n",
       "0          Euro                 NaN   AN     3041565                 ca   \n",
       "1        Dirham                 NaN   AE      290557  ar-AE,fa,en,hi,ur   \n",
       "2       Afghani                 NaN   AF     1149361  fa-AF,ps,uz-AF,tk   \n",
       "3        Dollar                 NaN   AC     3576396              en-AG   \n",
       "4        Dollar                 NaN   AV     3573511              en-AI   \n",
       "\n",
       "                   name         neighbours  numeric   phone  population  \\\n",
       "0               Andorra              ES,FR       20     376       84000   \n",
       "1  United Arab Emirates              SA,OM      784     971     4975593   \n",
       "2           Afghanistan  TM,CN,IR,TJ,PK,UZ        4      93    29121286   \n",
       "3   Antigua and Barbuda                NaN       28  +1-268       86754   \n",
       "4              Anguilla                NaN      660  +1-264       13254   \n",
       "\n",
       "  postal_code_format postal_code_regex  tld  \n",
       "0              AD###  ^(?:AD)*(\\d{3})$  .ad  \n",
       "1                NaN               NaN  .ae  \n",
       "2                NaN               NaN  .af  \n",
       "3                NaN               NaN  .ag  \n",
       "4                NaN               NaN  .ai  "
      ]
     },
     "execution_count": 2,
     "metadata": {},
     "output_type": "execute_result"
    }
   ],
   "source": [
    "#Importacion de archivo csv para analisis\n",
    "url = 'https://raw.githubusercontent.com/lorey/list-of-countries/master/csv/countries.csv'\n",
    "df=pd.read_csv(url,sep=\";\")\n",
    "df.head(5)"
   ]
  },
  {
   "cell_type": "code",
   "execution_count": 3,
   "id": "42c9953a",
   "metadata": {},
   "outputs": [
    {
     "data": {
      "text/plain": [
       "(252, 19)"
      ]
     },
     "execution_count": 3,
     "metadata": {},
     "output_type": "execute_result"
    }
   ],
   "source": [
    "df.shape #Revsion de cantidad de filas y columnas"
   ]
  },
  {
   "cell_type": "code",
   "execution_count": 4,
   "id": "42d6975e",
   "metadata": {},
   "outputs": [
    {
     "data": {
      "text/plain": [
       "Index(['alpha_2', 'alpha_3', 'area', 'capital', 'continent', 'currency_code',\n",
       "       'currency_name', 'eqivalent_fips_code', 'fips', 'geoname_id',\n",
       "       'languages', 'name', 'neighbours', 'numeric', 'phone', 'population',\n",
       "       'postal_code_format', 'postal_code_regex', 'tld'],\n",
       "      dtype='object')"
      ]
     },
     "execution_count": 4,
     "metadata": {},
     "output_type": "execute_result"
    }
   ],
   "source": [
    "df.columns #Revision de encabezados"
   ]
  },
  {
   "cell_type": "code",
   "execution_count": 5,
   "id": "cc3a047a",
   "metadata": {},
   "outputs": [
    {
     "name": "stdout",
     "output_type": "stream",
     "text": [
      "<class 'pandas.core.frame.DataFrame'>\n",
      "RangeIndex: 252 entries, 0 to 251\n",
      "Data columns (total 19 columns):\n",
      " #   Column               Non-Null Count  Dtype  \n",
      "---  ------               --------------  -----  \n",
      " 0   alpha_2              251 non-null    object \n",
      " 1   alpha_3              252 non-null    object \n",
      " 2   area                 252 non-null    float64\n",
      " 3   capital              246 non-null    object \n",
      " 4   continent            210 non-null    object \n",
      " 5   currency_code        251 non-null    object \n",
      " 6   currency_name        251 non-null    object \n",
      " 7   eqivalent_fips_code  1 non-null      object \n",
      " 8   fips                 249 non-null    object \n",
      " 9   geoname_id           252 non-null    int64  \n",
      " 10  languages            249 non-null    object \n",
      " 11  name                 252 non-null    object \n",
      " 12  neighbours           165 non-null    object \n",
      " 13  numeric              252 non-null    int64  \n",
      " 14  phone                247 non-null    object \n",
      " 15  population           252 non-null    int64  \n",
      " 16  postal_code_format   154 non-null    object \n",
      " 17  postal_code_regex    152 non-null    object \n",
      " 18  tld                  250 non-null    object \n",
      "dtypes: float64(1), int64(3), object(15)\n",
      "memory usage: 37.5+ KB\n"
     ]
    }
   ],
   "source": [
    "df.info() #Revision de variables"
   ]
  },
  {
   "cell_type": "code",
   "execution_count": 6,
   "id": "c49c8d7a",
   "metadata": {},
   "outputs": [
    {
     "data": {
      "text/html": [
       "<div>\n",
       "<style scoped>\n",
       "    .dataframe tbody tr th:only-of-type {\n",
       "        vertical-align: middle;\n",
       "    }\n",
       "\n",
       "    .dataframe tbody tr th {\n",
       "        vertical-align: top;\n",
       "    }\n",
       "\n",
       "    .dataframe thead th {\n",
       "        text-align: right;\n",
       "    }\n",
       "</style>\n",
       "<table border=\"1\" class=\"dataframe\">\n",
       "  <thead>\n",
       "    <tr style=\"text-align: right;\">\n",
       "      <th></th>\n",
       "      <th>area</th>\n",
       "      <th>geoname_id</th>\n",
       "      <th>numeric</th>\n",
       "      <th>population</th>\n",
       "    </tr>\n",
       "  </thead>\n",
       "  <tbody>\n",
       "    <tr>\n",
       "      <th>count</th>\n",
       "      <td>2.520000e+02</td>\n",
       "      <td>2.520000e+02</td>\n",
       "      <td>252.000000</td>\n",
       "      <td>2.520000e+02</td>\n",
       "    </tr>\n",
       "    <tr>\n",
       "      <th>mean</th>\n",
       "      <td>5.952879e+05</td>\n",
       "      <td>2.427870e+06</td>\n",
       "      <td>434.309524</td>\n",
       "      <td>2.727679e+07</td>\n",
       "    </tr>\n",
       "    <tr>\n",
       "      <th>std</th>\n",
       "      <td>1.904818e+06</td>\n",
       "      <td>1.632093e+06</td>\n",
       "      <td>254.663139</td>\n",
       "      <td>1.164127e+08</td>\n",
       "    </tr>\n",
       "    <tr>\n",
       "      <th>min</th>\n",
       "      <td>0.000000e+00</td>\n",
       "      <td>4.951800e+04</td>\n",
       "      <td>0.000000</td>\n",
       "      <td>0.000000e+00</td>\n",
       "    </tr>\n",
       "    <tr>\n",
       "      <th>25%</th>\n",
       "      <td>1.098000e+03</td>\n",
       "      <td>1.163774e+06</td>\n",
       "      <td>217.000000</td>\n",
       "      <td>1.879528e+05</td>\n",
       "    </tr>\n",
       "    <tr>\n",
       "      <th>50%</th>\n",
       "      <td>6.489450e+04</td>\n",
       "      <td>2.367967e+06</td>\n",
       "      <td>436.000000</td>\n",
       "      <td>4.268583e+06</td>\n",
       "    </tr>\n",
       "    <tr>\n",
       "      <th>75%</th>\n",
       "      <td>3.622245e+05</td>\n",
       "      <td>3.478296e+06</td>\n",
       "      <td>652.500000</td>\n",
       "      <td>1.536688e+07</td>\n",
       "    </tr>\n",
       "    <tr>\n",
       "      <th>max</th>\n",
       "      <td>1.710000e+07</td>\n",
       "      <td>8.505033e+06</td>\n",
       "      <td>894.000000</td>\n",
       "      <td>1.330044e+09</td>\n",
       "    </tr>\n",
       "  </tbody>\n",
       "</table>\n",
       "</div>"
      ],
      "text/plain": [
       "               area    geoname_id     numeric    population\n",
       "count  2.520000e+02  2.520000e+02  252.000000  2.520000e+02\n",
       "mean   5.952879e+05  2.427870e+06  434.309524  2.727679e+07\n",
       "std    1.904818e+06  1.632093e+06  254.663139  1.164127e+08\n",
       "min    0.000000e+00  4.951800e+04    0.000000  0.000000e+00\n",
       "25%    1.098000e+03  1.163774e+06  217.000000  1.879528e+05\n",
       "50%    6.489450e+04  2.367967e+06  436.000000  4.268583e+06\n",
       "75%    3.622245e+05  3.478296e+06  652.500000  1.536688e+07\n",
       "max    1.710000e+07  8.505033e+06  894.000000  1.330044e+09"
      ]
     },
     "execution_count": 6,
     "metadata": {},
     "output_type": "execute_result"
    }
   ],
   "source": [
    "df.describe() #Revision de estadisticas"
   ]
  },
  {
   "cell_type": "code",
   "execution_count": 7,
   "id": "24bba81b",
   "metadata": {},
   "outputs": [
    {
     "data": {
      "image/png": "[encoded data removed]",
      "text/plain": [
       "<Figure size 432x288 with 2 Axes>"
      ]
     },
     "metadata": {
      "needs_background": "light"
     },
     "output_type": "display_data"
    }
   ],
   "source": [
    "#Se grafica el coeficiente de correlacion (Para observar relaciones entre variables)\n",
    "# Utiliza liberia matplotlib\n",
    "corr = df.set_index('alpha_3').corr()\n",
    "sm.graphics.plot_corr(corr, xnames=list(corr.columns))\n",
    "plt.show()\n"
   ]
  },
  {
   "cell_type": "code",
   "execution_count": 8,
   "id": "76541e8b",
   "metadata": {},
   "outputs": [
    {
     "data": {
      "image/png": "[encoded data removed]",
      "text/plain": [
       "<Figure size 576x432 with 2 Axes>"
      ]
     },
     "metadata": {
      "needs_background": "light"
     },
     "output_type": "display_data"
    }
   ],
   "source": [
    "#Coeficiente de correlacion con liberia seaborn\n",
    "corr_df = df.corr(method='pearson')\n",
    "plt.figure(figsize=(8, 6))\n",
    "sns.heatmap(corr_df, annot=True)\n",
    "plt.show()"
   ]
  },
  {
   "cell_type": "code",
   "execution_count": 9,
   "id": "0e1e46b6",
   "metadata": {},
   "outputs": [],
   "source": [
    "# En este set de datos se identifican columnas con valores nulos\n",
    "#Se observan variables tipo object, float e integer\n",
    "#Existe baja correlacion entre varaibales, la correlacion mas evidente es en las variables area y population."
   ]
  },
  {
   "cell_type": "markdown",
   "id": "d4765f09",
   "metadata": {},
   "source": [
    "<h2>CSV crecimiento de la población en los últimos años, con filtro a España </h2>"
   ]
  },
  {
   "cell_type": "code",
   "execution_count": 10,
   "id": "86ac8d64",
   "metadata": {},
   "outputs": [
    {
     "name": "stdout",
     "output_type": "stream",
     "text": [
      "       country  year  population\n",
      "0  Afghanistan  1952     8425333\n",
      "1  Afghanistan  1957     9240934\n",
      "2  Afghanistan  1962    10267083\n",
      "3  Afghanistan  1967    11537966\n",
      "4  Afghanistan  1972    13079460\n"
     ]
    }
   ],
   "source": [
    "#Se importa el archivo CSV para analsis\n",
    "url = 'https://raw.githubusercontent.com/DrueStaples/Population_Growth/master/countries.csv'\n",
    "df_pop = pd.read_csv(url)\n",
    "print(df_pop.head(5))"
   ]
  },
  {
   "cell_type": "code",
   "execution_count": 11,
   "id": "ae294d2c",
   "metadata": {},
   "outputs": [
    {
     "name": "stdout",
     "output_type": "stream",
     "text": [
      "     country  year  population\n",
      "1416   Spain  1952    28549870\n",
      "1417   Spain  1957    29841614\n",
      "1418   Spain  1962    31158061\n",
      "1419   Spain  1967    32850275\n",
      "1420   Spain  1972    34513161\n"
     ]
    }
   ],
   "source": [
    "#Se hace filtro de pais por España\n",
    "df_pop_es = df_pop[df_pop[\"country\"] == 'Spain' ]\n",
    "print(df_pop_es.head())\n"
   ]
  },
  {
   "cell_type": "code",
   "execution_count": 12,
   "id": "71f96fee",
   "metadata": {},
   "outputs": [
    {
     "data": {
      "text/plain": [
       "<AxesSubplot:>"
      ]
     },
     "execution_count": 12,
     "metadata": {},
     "output_type": "execute_result"
    },
    {
     "data": {
      "image/png": "[encoded data removed]",
      "text/plain": [
       "<Figure size 432x288 with 1 Axes>"
      ]
     },
     "metadata": {
      "needs_background": "light"
     },
     "output_type": "display_data"
    }
   ],
   "source": [
    "#Grafico de poblacion sin eje x\n",
    "df_pop_es.drop(['country'],axis=1)['population'].plot(kind='bar')"
   ]
  },
  {
   "cell_type": "code",
   "execution_count": 13,
   "id": "6459c687",
   "metadata": {},
   "outputs": [
    {
     "data": {
      "image/png": "[encoded data removed]",
      "text/plain": [
       "<Figure size 648x360 with 1 Axes>"
      ]
     },
     "metadata": {
      "needs_background": "light"
     },
     "output_type": "display_data"
    }
   ],
   "source": [
    "#Utilizo la liberia seaborn para ver la relacion entre años y poblacion.\n",
    "ax=sns.barplot(x=df_pop_es[\"year\"],y=df_pop_es[\"population\"],data=df_pop_es, color=\"green\")\n",
    "plt.gcf().set_size_inches(9, 5)"
   ]
  },
  {
   "cell_type": "code",
   "execution_count": 14,
   "id": "86e40056",
   "metadata": {},
   "outputs": [
    {
     "data": {
      "text/html": [
       "<div>\n",
       "<style scoped>\n",
       "    .dataframe tbody tr th:only-of-type {\n",
       "        vertical-align: middle;\n",
       "    }\n",
       "\n",
       "    .dataframe tbody tr th {\n",
       "        vertical-align: top;\n",
       "    }\n",
       "\n",
       "    .dataframe thead th {\n",
       "        text-align: right;\n",
       "    }\n",
       "</style>\n",
       "<table border=\"1\" class=\"dataframe\">\n",
       "  <thead>\n",
       "    <tr style=\"text-align: right;\">\n",
       "      <th></th>\n",
       "      <th>country</th>\n",
       "      <th>year</th>\n",
       "      <th>population</th>\n",
       "    </tr>\n",
       "  </thead>\n",
       "  <tbody>\n",
       "    <tr>\n",
       "      <th>48</th>\n",
       "      <td>Argentina</td>\n",
       "      <td>1952</td>\n",
       "      <td>17876956</td>\n",
       "    </tr>\n",
       "    <tr>\n",
       "      <th>49</th>\n",
       "      <td>Argentina</td>\n",
       "      <td>1957</td>\n",
       "      <td>19610538</td>\n",
       "    </tr>\n",
       "    <tr>\n",
       "      <th>50</th>\n",
       "      <td>Argentina</td>\n",
       "      <td>1962</td>\n",
       "      <td>21283783</td>\n",
       "    </tr>\n",
       "    <tr>\n",
       "      <th>51</th>\n",
       "      <td>Argentina</td>\n",
       "      <td>1967</td>\n",
       "      <td>22934225</td>\n",
       "    </tr>\n",
       "    <tr>\n",
       "      <th>52</th>\n",
       "      <td>Argentina</td>\n",
       "      <td>1972</td>\n",
       "      <td>24779799</td>\n",
       "    </tr>\n",
       "  </tbody>\n",
       "</table>\n",
       "</div>"
      ],
      "text/plain": [
       "      country  year  population\n",
       "48  Argentina  1952    17876956\n",
       "49  Argentina  1957    19610538\n",
       "50  Argentina  1962    21283783\n",
       "51  Argentina  1967    22934225\n",
       "52  Argentina  1972    24779799"
      ]
     },
     "execution_count": 14,
     "metadata": {},
     "output_type": "execute_result"
    }
   ],
   "source": [
    "#Filtro de dataframe pais Argentina\n",
    "df_pop_ar = df_pop[(df_pop[\"country\"] == 'Argentina')]\n",
    "df_pop_ar.head(5)"
   ]
  },
  {
   "cell_type": "code",
   "execution_count": 15,
   "id": "c964c703",
   "metadata": {},
   "outputs": [
    {
     "data": {
      "text/plain": [
       "<AxesSubplot:>"
      ]
     },
     "execution_count": 15,
     "metadata": {},
     "output_type": "execute_result"
    },
    {
     "data": {
      "image/png": "[encoded data removed]",
      "text/plain": [
       "<Figure size 432x288 with 1 Axes>"
      ]
     },
     "metadata": {
      "needs_background": "light"
     },
     "output_type": "display_data"
    }
   ],
   "source": [
    "#Selecciona los años que no se repiten\n",
    "anios = df_pop_es['year'].unique()\n",
    "\n",
    "#Seleciona todos los valores de poblacion de cada uno de las variables (España y Argentina)\n",
    "pop_ar = df_pop_ar['population'].values\n",
    "pop_es = df_pop_es['population'].values\n",
    "\n",
    "#Crea un dataframe con las variables y luego un grafico de barras\n",
    "df_plot = pd.DataFrame({'Argentina': pop_ar,\n",
    "                    'Spain': pop_es}, \n",
    "                       index=anios)\n",
    "#Se crea el tipo de grafico de barras\n",
    "df_plot.plot(kind='bar')"
   ]
  },
  {
   "cell_type": "code",
   "execution_count": 16,
   "id": "680ffa77",
   "metadata": {},
   "outputs": [
    {
     "data": {
      "text/html": [
       "<div>\n",
       "<style scoped>\n",
       "    .dataframe tbody tr th:only-of-type {\n",
       "        vertical-align: middle;\n",
       "    }\n",
       "\n",
       "    .dataframe tbody tr th {\n",
       "        vertical-align: top;\n",
       "    }\n",
       "\n",
       "    .dataframe thead th {\n",
       "        text-align: right;\n",
       "    }\n",
       "</style>\n",
       "<table border=\"1\" class=\"dataframe\">\n",
       "  <thead>\n",
       "    <tr style=\"text-align: right;\">\n",
       "      <th></th>\n",
       "      <th>alpha_2</th>\n",
       "      <th>alpha_3</th>\n",
       "      <th>area</th>\n",
       "      <th>capital</th>\n",
       "      <th>continent</th>\n",
       "      <th>currency_code</th>\n",
       "      <th>currency_name</th>\n",
       "      <th>eqivalent_fips_code</th>\n",
       "      <th>fips</th>\n",
       "      <th>geoname_id</th>\n",
       "      <th>languages</th>\n",
       "      <th>name</th>\n",
       "      <th>neighbours</th>\n",
       "      <th>numeric</th>\n",
       "      <th>phone</th>\n",
       "      <th>population</th>\n",
       "      <th>postal_code_format</th>\n",
       "      <th>postal_code_regex</th>\n",
       "      <th>tld</th>\n",
       "    </tr>\n",
       "  </thead>\n",
       "  <tbody>\n",
       "    <tr>\n",
       "      <th>9</th>\n",
       "      <td>AR</td>\n",
       "      <td>ARG</td>\n",
       "      <td>2766890.0</td>\n",
       "      <td>Buenos Aires</td>\n",
       "      <td>SA</td>\n",
       "      <td>ARS</td>\n",
       "      <td>Peso</td>\n",
       "      <td></td>\n",
       "      <td>AR</td>\n",
       "      <td>3865483</td>\n",
       "      <td>es-AR,en,it,de,fr,gn</td>\n",
       "      <td>Argentina</td>\n",
       "      <td>CL,BO,UY,PY,BR</td>\n",
       "      <td>32</td>\n",
       "      <td>54</td>\n",
       "      <td>41343201</td>\n",
       "      <td>@####@@@</td>\n",
       "      <td>^[A-Z]?\\d{4}[A-Z]{0,3}$</td>\n",
       "      <td>.ar</td>\n",
       "    </tr>\n",
       "    <tr>\n",
       "      <th>13</th>\n",
       "      <td>AW</td>\n",
       "      <td>ABW</td>\n",
       "      <td>193.0</td>\n",
       "      <td>Oranjestad</td>\n",
       "      <td></td>\n",
       "      <td>AWG</td>\n",
       "      <td>Guilder</td>\n",
       "      <td></td>\n",
       "      <td>AA</td>\n",
       "      <td>3577279</td>\n",
       "      <td>nl-AW,es,en</td>\n",
       "      <td>Aruba</td>\n",
       "      <td></td>\n",
       "      <td>533</td>\n",
       "      <td>297</td>\n",
       "      <td>71566</td>\n",
       "      <td></td>\n",
       "      <td></td>\n",
       "      <td>.aw</td>\n",
       "    </tr>\n",
       "    <tr>\n",
       "      <th>28</th>\n",
       "      <td>BO</td>\n",
       "      <td>BOL</td>\n",
       "      <td>1098580.0</td>\n",
       "      <td>Sucre</td>\n",
       "      <td>SA</td>\n",
       "      <td>BOB</td>\n",
       "      <td>Boliviano</td>\n",
       "      <td></td>\n",
       "      <td>BL</td>\n",
       "      <td>3923057</td>\n",
       "      <td>es-BO,qu,ay</td>\n",
       "      <td>Bolivia</td>\n",
       "      <td>PE,CL,PY,BR,AR</td>\n",
       "      <td>68</td>\n",
       "      <td>591</td>\n",
       "      <td>9947418</td>\n",
       "      <td></td>\n",
       "      <td></td>\n",
       "      <td>.bo</td>\n",
       "    </tr>\n",
       "    <tr>\n",
       "      <th>30</th>\n",
       "      <td>BR</td>\n",
       "      <td>BRA</td>\n",
       "      <td>8511965.0</td>\n",
       "      <td>Brasilia</td>\n",
       "      <td>SA</td>\n",
       "      <td>BRL</td>\n",
       "      <td>Real</td>\n",
       "      <td></td>\n",
       "      <td>BR</td>\n",
       "      <td>3469034</td>\n",
       "      <td>pt-BR,es,en,fr</td>\n",
       "      <td>Brazil</td>\n",
       "      <td>SR,PE,BO,UY,GY,PY,GF,VE,CO,AR</td>\n",
       "      <td>76</td>\n",
       "      <td>55</td>\n",
       "      <td>201103330</td>\n",
       "      <td>#####-###</td>\n",
       "      <td>^\\d{5}-\\d{3}$</td>\n",
       "      <td>.br</td>\n",
       "    </tr>\n",
       "    <tr>\n",
       "      <th>36</th>\n",
       "      <td>BZ</td>\n",
       "      <td>BLZ</td>\n",
       "      <td>22966.0</td>\n",
       "      <td>Belmopan</td>\n",
       "      <td></td>\n",
       "      <td>BZD</td>\n",
       "      <td>Dollar</td>\n",
       "      <td></td>\n",
       "      <td>BH</td>\n",
       "      <td>3582678</td>\n",
       "      <td>en-BZ,es</td>\n",
       "      <td>Belize</td>\n",
       "      <td>GT,MX</td>\n",
       "      <td>84</td>\n",
       "      <td>501</td>\n",
       "      <td>314522</td>\n",
       "      <td></td>\n",
       "      <td></td>\n",
       "      <td>.bz</td>\n",
       "    </tr>\n",
       "  </tbody>\n",
       "</table>\n",
       "</div>"
      ],
      "text/plain": [
       "   alpha_2 alpha_3       area       capital continent currency_code  \\\n",
       "9       AR     ARG  2766890.0  Buenos Aires        SA           ARS   \n",
       "13      AW     ABW      193.0    Oranjestad                     AWG   \n",
       "28      BO     BOL  1098580.0         Sucre        SA           BOB   \n",
       "30      BR     BRA  8511965.0      Brasilia        SA           BRL   \n",
       "36      BZ     BLZ    22966.0      Belmopan                     BZD   \n",
       "\n",
       "   currency_name eqivalent_fips_code fips  geoname_id             languages  \\\n",
       "9           Peso                       AR     3865483  es-AR,en,it,de,fr,gn   \n",
       "13       Guilder                       AA     3577279           nl-AW,es,en   \n",
       "28     Boliviano                       BL     3923057           es-BO,qu,ay   \n",
       "30          Real                       BR     3469034        pt-BR,es,en,fr   \n",
       "36        Dollar                       BH     3582678              en-BZ,es   \n",
       "\n",
       "         name                     neighbours  numeric phone  population  \\\n",
       "9   Argentina                 CL,BO,UY,PY,BR       32    54    41343201   \n",
       "13      Aruba                                     533   297       71566   \n",
       "28    Bolivia                 PE,CL,PY,BR,AR       68   591     9947418   \n",
       "30     Brazil  SR,PE,BO,UY,GY,PY,GF,VE,CO,AR       76    55   201103330   \n",
       "36     Belize                          GT,MX       84   501      314522   \n",
       "\n",
       "   postal_code_format        postal_code_regex  tld  \n",
       "9            @####@@@  ^[A-Z]?\\d{4}[A-Z]{0,3}$  .ar  \n",
       "13                                              .aw  \n",
       "28                                              .bo  \n",
       "30          #####-###            ^\\d{5}-\\d{3}$  .br  \n",
       "36                                              .bz  "
      ]
     },
     "execution_count": 16,
     "metadata": {},
     "output_type": "execute_result"
    }
   ],
   "source": [
    "#Reemplaza lsos valores null por vacio\n",
    "df_espanol = df.replace(np.nan, '', regex=True)\n",
    "\n",
    "#Filtro de datos por sting \"es\" Español\n",
    "df_espanol = df_espanol[ df_espanol['languages'].str.contains('es') ]\n",
    "df_espanol.head(5)\n"
   ]
  },
  {
   "cell_type": "code",
   "execution_count": 17,
   "id": "febcc143",
   "metadata": {},
   "outputs": [
    {
     "data": {
      "text/plain": [
       "<AxesSubplot:xlabel='alpha_3'>"
      ]
     },
     "execution_count": 17,
     "metadata": {},
     "output_type": "execute_result"
    },
    {
     "data": {
      "image/png": "[encoded data removed]",
      "text/plain": [
       "<Figure size 1440x720 with 1 Axes>"
      ]
     },
     "metadata": {
      "needs_background": "light"
     },
     "output_type": "display_data"
    }
   ],
   "source": [
    "#Grafico de poblacion y area por pais\n",
    "df_espanol.set_index('alpha_3')[['population','area']].plot(kind='bar',rot=65,figsize=(20,10))"
   ]
  },
  {
   "cell_type": "code",
   "execution_count": 18,
   "id": "1a32b4cb",
   "metadata": {},
   "outputs": [
    {
     "ename": "SyntaxError",
     "evalue": "invalid syntax (<ipython-input-18-e26fa1ea84bc>, line 21)",
     "output_type": "error",
     "traceback": [
      "\u001b[1;36m  File \u001b[1;32m\"<ipython-input-18-e26fa1ea84bc>\"\u001b[1;36m, line \u001b[1;32m21\u001b[0m\n\u001b[1;33m    if (outlier.iloc[0] > upper_limit.iloc[0]) or (outlier.iloc[0] &lt; lower_limit.iloc[0]):\u001b[0m\n\u001b[1;37m                                                                      ^\u001b[0m\n\u001b[1;31mSyntaxError\u001b[0m\u001b[1;31m:\u001b[0m invalid syntax\n"
     ]
    }
   ],
   "source": [
    "anomalies = []\n",
    "\n",
    "# Funcion ejemplo para detección de outliers\n",
    "def find_anomalies(data):\n",
    "    \n",
    "    # Set upper and lower limit to 2 standard deviation\n",
    "    data_std = data.std()\n",
    "    data_mean = data.mean()\n",
    "    anomaly_cut_off = data_std * 2\n",
    "    \n",
    "    lower_limit  = data_mean - anomaly_cut_off \n",
    "    upper_limit = data_mean + anomaly_cut_off\n",
    "    \n",
    "    print(lower_limit.iloc[0])\n",
    "    print(upper_limit.iloc[0])\n",
    "\n",
    "    # Generate outliers\n",
    "    for index, row in data.iterrows():\n",
    "        outlier = row # # obtener primer columna\n",
    "        # print(outlier)\n",
    "        if (outlier.iloc[0] > upper_limit.iloc[0]) or (outlier.iloc[0] &lt; lower_limit.iloc[0]):\n",
    "            anomalies.append(index)\n",
    "    return anomalies\n",
    "\n",
    "find_anomalies(df_espanol.set_index('alpha_3')[['population']])"
   ]
  },
  {
   "cell_type": "code",
   "execution_count": null,
   "id": "70560846",
   "metadata": {},
   "outputs": [],
   "source": []
  },
  {
   "cell_type": "code",
   "execution_count": null,
   "id": "d36465ce",
   "metadata": {},
   "outputs": [],
   "source": []
  }
 ],
 "metadata": {
  "kernelspec": {
   "display_name": "Python 3",
   "language": "python",
   "name": "python3"
  },
  "language_info": {
   "codemirror_mode": {
    "name": "ipython",
    "version": 3
   },
   "file_extension": ".py",
   "mimetype": "text/x-python",
   "name": "python",
   "nbconvert_exporter": "python",
   "pygments_lexer": "ipython3",
   "version": "3.8.8"
  }
 },
 "nbformat": 4,
 "nbformat_minor": 5
}
