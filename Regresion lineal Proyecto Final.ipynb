{
 "cells": [
  {
   "cell_type": "code",
   "execution_count": 1,
   "id": "f77870b0",
   "metadata": {},
   "outputs": [],
   "source": [
    "#Se importan las liberias necesarias\n",
    "import pandas as pd\n",
    "import numpy as np"
   ]
  },
  {
   "cell_type": "code",
   "execution_count": 2,
   "id": "74228f52",
   "metadata": {},
   "outputs": [
    {
     "data": {
      "text/html": [
       "<div>\n",
       "<style scoped>\n",
       "    .dataframe tbody tr th:only-of-type {\n",
       "        vertical-align: middle;\n",
       "    }\n",
       "\n",
       "    .dataframe tbody tr th {\n",
       "        vertical-align: top;\n",
       "    }\n",
       "\n",
       "    .dataframe thead th {\n",
       "        text-align: right;\n",
       "    }\n",
       "</style>\n",
       "<table border=\"1\" class=\"dataframe\">\n",
       "  <thead>\n",
       "    <tr style=\"text-align: right;\">\n",
       "      <th></th>\n",
       "      <th>ID</th>\n",
       "      <th>LIMIT_BAL</th>\n",
       "      <th>AGE</th>\n",
       "      <th>PAY_0</th>\n",
       "      <th>PAY_2</th>\n",
       "      <th>PAY_3</th>\n",
       "      <th>PAY_4</th>\n",
       "      <th>PAY_5</th>\n",
       "      <th>PAY_6</th>\n",
       "      <th>BILL_AMT1</th>\n",
       "      <th>...</th>\n",
       "      <th>graduate school</th>\n",
       "      <th>high school</th>\n",
       "      <th>other</th>\n",
       "      <th>university</th>\n",
       "      <th>default</th>\n",
       "      <th>not default</th>\n",
       "      <th>others</th>\n",
       "      <th>married</th>\n",
       "      <th>single</th>\n",
       "      <th>divorved</th>\n",
       "    </tr>\n",
       "  </thead>\n",
       "  <tbody>\n",
       "    <tr>\n",
       "      <th>0</th>\n",
       "      <td>1</td>\n",
       "      <td>20000</td>\n",
       "      <td>24</td>\n",
       "      <td>2</td>\n",
       "      <td>2</td>\n",
       "      <td>-1</td>\n",
       "      <td>-1</td>\n",
       "      <td>-2</td>\n",
       "      <td>-2</td>\n",
       "      <td>3913</td>\n",
       "      <td>...</td>\n",
       "      <td>0</td>\n",
       "      <td>0</td>\n",
       "      <td>0</td>\n",
       "      <td>1</td>\n",
       "      <td>1</td>\n",
       "      <td>0</td>\n",
       "      <td>0</td>\n",
       "      <td>1</td>\n",
       "      <td>0</td>\n",
       "      <td>0</td>\n",
       "    </tr>\n",
       "    <tr>\n",
       "      <th>1</th>\n",
       "      <td>2</td>\n",
       "      <td>120000</td>\n",
       "      <td>26</td>\n",
       "      <td>-1</td>\n",
       "      <td>2</td>\n",
       "      <td>0</td>\n",
       "      <td>0</td>\n",
       "      <td>0</td>\n",
       "      <td>2</td>\n",
       "      <td>2682</td>\n",
       "      <td>...</td>\n",
       "      <td>0</td>\n",
       "      <td>0</td>\n",
       "      <td>0</td>\n",
       "      <td>1</td>\n",
       "      <td>1</td>\n",
       "      <td>0</td>\n",
       "      <td>0</td>\n",
       "      <td>0</td>\n",
       "      <td>1</td>\n",
       "      <td>0</td>\n",
       "    </tr>\n",
       "    <tr>\n",
       "      <th>2</th>\n",
       "      <td>3</td>\n",
       "      <td>90000</td>\n",
       "      <td>34</td>\n",
       "      <td>0</td>\n",
       "      <td>0</td>\n",
       "      <td>0</td>\n",
       "      <td>0</td>\n",
       "      <td>0</td>\n",
       "      <td>0</td>\n",
       "      <td>29239</td>\n",
       "      <td>...</td>\n",
       "      <td>0</td>\n",
       "      <td>0</td>\n",
       "      <td>0</td>\n",
       "      <td>1</td>\n",
       "      <td>0</td>\n",
       "      <td>1</td>\n",
       "      <td>0</td>\n",
       "      <td>0</td>\n",
       "      <td>1</td>\n",
       "      <td>0</td>\n",
       "    </tr>\n",
       "    <tr>\n",
       "      <th>3</th>\n",
       "      <td>4</td>\n",
       "      <td>50000</td>\n",
       "      <td>37</td>\n",
       "      <td>0</td>\n",
       "      <td>0</td>\n",
       "      <td>0</td>\n",
       "      <td>0</td>\n",
       "      <td>0</td>\n",
       "      <td>0</td>\n",
       "      <td>46990</td>\n",
       "      <td>...</td>\n",
       "      <td>0</td>\n",
       "      <td>0</td>\n",
       "      <td>0</td>\n",
       "      <td>1</td>\n",
       "      <td>0</td>\n",
       "      <td>1</td>\n",
       "      <td>0</td>\n",
       "      <td>1</td>\n",
       "      <td>0</td>\n",
       "      <td>0</td>\n",
       "    </tr>\n",
       "    <tr>\n",
       "      <th>4</th>\n",
       "      <td>5</td>\n",
       "      <td>50000</td>\n",
       "      <td>57</td>\n",
       "      <td>-1</td>\n",
       "      <td>0</td>\n",
       "      <td>-1</td>\n",
       "      <td>0</td>\n",
       "      <td>0</td>\n",
       "      <td>0</td>\n",
       "      <td>8617</td>\n",
       "      <td>...</td>\n",
       "      <td>0</td>\n",
       "      <td>0</td>\n",
       "      <td>0</td>\n",
       "      <td>1</td>\n",
       "      <td>0</td>\n",
       "      <td>1</td>\n",
       "      <td>0</td>\n",
       "      <td>1</td>\n",
       "      <td>0</td>\n",
       "      <td>0</td>\n",
       "    </tr>\n",
       "  </tbody>\n",
       "</table>\n",
       "<p>5 rows × 33 columns</p>\n",
       "</div>"
      ],
      "text/plain": [
       "   ID  LIMIT_BAL  AGE  PAY_0  PAY_2  PAY_3  PAY_4  PAY_5  PAY_6  BILL_AMT1  \\\n",
       "0   1      20000   24      2      2     -1     -1     -2     -2       3913   \n",
       "1   2     120000   26     -1      2      0      0      0      2       2682   \n",
       "2   3      90000   34      0      0      0      0      0      0      29239   \n",
       "3   4      50000   37      0      0      0      0      0      0      46990   \n",
       "4   5      50000   57     -1      0     -1      0      0      0       8617   \n",
       "\n",
       "   ...  graduate school  high school  other  university  default  not default  \\\n",
       "0  ...                0            0      0           1        1            0   \n",
       "1  ...                0            0      0           1        1            0   \n",
       "2  ...                0            0      0           1        0            1   \n",
       "3  ...                0            0      0           1        0            1   \n",
       "4  ...                0            0      0           1        0            1   \n",
       "\n",
       "   others  married  single  divorved  \n",
       "0       0        1       0         0  \n",
       "1       0        0       1         0  \n",
       "2       0        0       1         0  \n",
       "3       0        1       0         0  \n",
       "4       0        1       0         0  \n",
       "\n",
       "[5 rows x 33 columns]"
      ]
     },
     "execution_count": 2,
     "metadata": {},
     "output_type": "execute_result"
    }
   ],
   "source": [
    "#Se importa el csv con la data limpia\n",
    "#Se utiliza el codigo sep, porque el archivo se delimita por comas  \",\"\n",
    "#Se utliza el codigo index_col, para utlizar la primer columna como index\n",
    "rawData = pd.read_csv('default of credit card clients.csv', sep=\",\",index_col=0)\n",
    "rawData.head()"
   ]
  },
  {
   "cell_type": "code",
   "execution_count": 3,
   "id": "665bc299",
   "metadata": {},
   "outputs": [
    {
     "data": {
      "text/plain": [
       "Index(['ID', 'LIMIT_BAL', 'AGE', 'PAY_0', 'PAY_2', 'PAY_3', 'PAY_4', 'PAY_5',\n",
       "       'PAY_6', 'BILL_AMT1', 'BILL_AMT2', 'BILL_AMT3', 'BILL_AMT4',\n",
       "       'BILL_AMT5', 'BILL_AMT6', 'PAY_AMT1', 'PAY_AMT2', 'PAY_AMT3',\n",
       "       'PAY_AMT4', 'PAY_AMT5', 'PAY_AMT6', 'female', 'male', 'graduate school',\n",
       "       'high school', 'other', 'university', 'default', 'not default',\n",
       "       'others', 'married', 'single', 'divorved'],\n",
       "      dtype='object')"
      ]
     },
     "execution_count": 3,
     "metadata": {},
     "output_type": "execute_result"
    }
   ],
   "source": [
    "rawData.columns"
   ]
  },
  {
   "cell_type": "code",
   "execution_count": 4,
   "id": "c7d488b0",
   "metadata": {},
   "outputs": [
    {
     "name": "stdout",
     "output_type": "stream",
     "text": [
      "<class 'pandas.core.frame.DataFrame'>\n",
      "Int64Index: 30000 entries, 0 to 30202\n",
      "Data columns (total 33 columns):\n",
      " #   Column           Non-Null Count  Dtype\n",
      "---  ------           --------------  -----\n",
      " 0   ID               30000 non-null  int64\n",
      " 1   LIMIT_BAL        30000 non-null  int64\n",
      " 2   AGE              30000 non-null  int64\n",
      " 3   PAY_0            30000 non-null  int64\n",
      " 4   PAY_2            30000 non-null  int64\n",
      " 5   PAY_3            30000 non-null  int64\n",
      " 6   PAY_4            30000 non-null  int64\n",
      " 7   PAY_5            30000 non-null  int64\n",
      " 8   PAY_6            30000 non-null  int64\n",
      " 9   BILL_AMT1        30000 non-null  int64\n",
      " 10  BILL_AMT2        30000 non-null  int64\n",
      " 11  BILL_AMT3        30000 non-null  int64\n",
      " 12  BILL_AMT4        30000 non-null  int64\n",
      " 13  BILL_AMT5        30000 non-null  int64\n",
      " 14  BILL_AMT6        30000 non-null  int64\n",
      " 15  PAY_AMT1         30000 non-null  int64\n",
      " 16  PAY_AMT2         30000 non-null  int64\n",
      " 17  PAY_AMT3         30000 non-null  int64\n",
      " 18  PAY_AMT4         30000 non-null  int64\n",
      " 19  PAY_AMT5         30000 non-null  int64\n",
      " 20  PAY_AMT6         30000 non-null  int64\n",
      " 21  female           30000 non-null  int64\n",
      " 22  male             30000 non-null  int64\n",
      " 23  graduate school  30000 non-null  int64\n",
      " 24  high school      30000 non-null  int64\n",
      " 25  other            30000 non-null  int64\n",
      " 26  university       30000 non-null  int64\n",
      " 27  default          30000 non-null  int64\n",
      " 28  not default      30000 non-null  int64\n",
      " 29  others           30000 non-null  int64\n",
      " 30  married          30000 non-null  int64\n",
      " 31  single           30000 non-null  int64\n",
      " 32  divorved         30000 non-null  int64\n",
      "dtypes: int64(33)\n",
      "memory usage: 7.8 MB\n"
     ]
    }
   ],
   "source": [
    "#Se revisan las variables\n",
    "rawData.info()"
   ]
  },
  {
   "cell_type": "code",
   "execution_count": null,
   "id": "5e0cbc53",
   "metadata": {},
   "outputs": [],
   "source": []
  },
  {
   "cell_type": "code",
   "execution_count": 5,
   "id": "3f69cbf5",
   "metadata": {},
   "outputs": [
    {
     "data": {
      "text/html": [
       "<div>\n",
       "<style scoped>\n",
       "    .dataframe tbody tr th:only-of-type {\n",
       "        vertical-align: middle;\n",
       "    }\n",
       "\n",
       "    .dataframe tbody tr th {\n",
       "        vertical-align: top;\n",
       "    }\n",
       "\n",
       "    .dataframe thead th {\n",
       "        text-align: right;\n",
       "    }\n",
       "</style>\n",
       "<table border=\"1\" class=\"dataframe\">\n",
       "  <thead>\n",
       "    <tr style=\"text-align: right;\">\n",
       "      <th></th>\n",
       "      <th>PAY_0</th>\n",
       "      <th>PAY_2</th>\n",
       "      <th>PAY_3</th>\n",
       "      <th>PAY_4</th>\n",
       "      <th>PAY_5</th>\n",
       "      <th>PAY_6</th>\n",
       "    </tr>\n",
       "  </thead>\n",
       "  <tbody>\n",
       "    <tr>\n",
       "      <th>0</th>\n",
       "      <td>2</td>\n",
       "      <td>2</td>\n",
       "      <td>-1</td>\n",
       "      <td>-1</td>\n",
       "      <td>-2</td>\n",
       "      <td>-2</td>\n",
       "    </tr>\n",
       "    <tr>\n",
       "      <th>1</th>\n",
       "      <td>-1</td>\n",
       "      <td>2</td>\n",
       "      <td>0</td>\n",
       "      <td>0</td>\n",
       "      <td>0</td>\n",
       "      <td>2</td>\n",
       "    </tr>\n",
       "    <tr>\n",
       "      <th>2</th>\n",
       "      <td>0</td>\n",
       "      <td>0</td>\n",
       "      <td>0</td>\n",
       "      <td>0</td>\n",
       "      <td>0</td>\n",
       "      <td>0</td>\n",
       "    </tr>\n",
       "    <tr>\n",
       "      <th>3</th>\n",
       "      <td>0</td>\n",
       "      <td>0</td>\n",
       "      <td>0</td>\n",
       "      <td>0</td>\n",
       "      <td>0</td>\n",
       "      <td>0</td>\n",
       "    </tr>\n",
       "    <tr>\n",
       "      <th>4</th>\n",
       "      <td>-1</td>\n",
       "      <td>0</td>\n",
       "      <td>-1</td>\n",
       "      <td>0</td>\n",
       "      <td>0</td>\n",
       "      <td>0</td>\n",
       "    </tr>\n",
       "    <tr>\n",
       "      <th>...</th>\n",
       "      <td>...</td>\n",
       "      <td>...</td>\n",
       "      <td>...</td>\n",
       "      <td>...</td>\n",
       "      <td>...</td>\n",
       "      <td>...</td>\n",
       "    </tr>\n",
       "    <tr>\n",
       "      <th>30198</th>\n",
       "      <td>0</td>\n",
       "      <td>0</td>\n",
       "      <td>0</td>\n",
       "      <td>0</td>\n",
       "      <td>0</td>\n",
       "      <td>0</td>\n",
       "    </tr>\n",
       "    <tr>\n",
       "      <th>30199</th>\n",
       "      <td>-1</td>\n",
       "      <td>-1</td>\n",
       "      <td>-1</td>\n",
       "      <td>-1</td>\n",
       "      <td>0</td>\n",
       "      <td>0</td>\n",
       "    </tr>\n",
       "    <tr>\n",
       "      <th>30200</th>\n",
       "      <td>4</td>\n",
       "      <td>3</td>\n",
       "      <td>2</td>\n",
       "      <td>-1</td>\n",
       "      <td>0</td>\n",
       "      <td>0</td>\n",
       "    </tr>\n",
       "    <tr>\n",
       "      <th>30201</th>\n",
       "      <td>1</td>\n",
       "      <td>-1</td>\n",
       "      <td>0</td>\n",
       "      <td>0</td>\n",
       "      <td>0</td>\n",
       "      <td>-1</td>\n",
       "    </tr>\n",
       "    <tr>\n",
       "      <th>30202</th>\n",
       "      <td>0</td>\n",
       "      <td>0</td>\n",
       "      <td>0</td>\n",
       "      <td>0</td>\n",
       "      <td>0</td>\n",
       "      <td>0</td>\n",
       "    </tr>\n",
       "  </tbody>\n",
       "</table>\n",
       "<p>30000 rows × 6 columns</p>\n",
       "</div>"
      ],
      "text/plain": [
       "       PAY_0  PAY_2  PAY_3  PAY_4  PAY_5  PAY_6\n",
       "0          2      2     -1     -1     -2     -2\n",
       "1         -1      2      0      0      0      2\n",
       "2          0      0      0      0      0      0\n",
       "3          0      0      0      0      0      0\n",
       "4         -1      0     -1      0      0      0\n",
       "...      ...    ...    ...    ...    ...    ...\n",
       "30198      0      0      0      0      0      0\n",
       "30199     -1     -1     -1     -1      0      0\n",
       "30200      4      3      2     -1      0      0\n",
       "30201      1     -1      0      0      0     -1\n",
       "30202      0      0      0      0      0      0\n",
       "\n",
       "[30000 rows x 6 columns]"
      ]
     },
     "execution_count": 5,
     "metadata": {},
     "output_type": "execute_result"
    }
   ],
   "source": [
    "#Definicions de variables independientes\n",
    "x = rawData.iloc[:,3:9]\n",
    "x"
   ]
  },
  {
   "cell_type": "code",
   "execution_count": 6,
   "id": "510a9c62",
   "metadata": {},
   "outputs": [
    {
     "data": {
      "text/plain": [
       "0        0\n",
       "1        0\n",
       "2        1\n",
       "3        1\n",
       "4        1\n",
       "        ..\n",
       "30198    1\n",
       "30199    1\n",
       "30200    0\n",
       "30201    0\n",
       "30202    0\n",
       "Name: not default, Length: 30000, dtype: int64"
      ]
     },
     "execution_count": 6,
     "metadata": {},
     "output_type": "execute_result"
    }
   ],
   "source": [
    "#Definicion de variable dependiente\n",
    "y = rawData[\"not default\"]\n",
    "y"
   ]
  },
  {
   "cell_type": "code",
   "execution_count": 7,
   "id": "d646a1eb",
   "metadata": {},
   "outputs": [],
   "source": [
    "#Importacion de liberia Sklearn\n",
    "from sklearn.linear_model import LinearRegression"
   ]
  },
  {
   "cell_type": "code",
   "execution_count": 8,
   "id": "6679ca1e",
   "metadata": {},
   "outputs": [],
   "source": [
    "model=LinearRegression()"
   ]
  },
  {
   "cell_type": "code",
   "execution_count": 9,
   "id": "685c7b09",
   "metadata": {},
   "outputs": [],
   "source": [
    "# Importacion de liberias\n",
    "import numpy as np\n",
    "import pandas as pd\n",
    "import scipy \n",
    "from math import sqrt\n",
    "import matplotlib.pyplot as plt\n",
    "\n",
    "#Importacion de estimadores\n",
    "\n",
    "from sklearn.ensemble import RandomForestRegressor\n",
    "from sklearn.linear_model import LinearRegression\n",
    "from sklearn.svm import SVR\n",
    "\n",
    "# Modelo de metricas\n",
    "\n",
    "from sklearn.metrics import mean_squared_error\n",
    "from sklearn.metrics import r2_score\n",
    "from sklearn.model_selection import cross_val_score\n",
    "\n",
    "#Validacion cruzada\n",
    "#from sklearn.cross_validation  import  train_test_split\n",
    "from sklearn.model_selection import train_test_split"
   ]
  },
  {
   "cell_type": "code",
   "execution_count": 10,
   "id": "bd77f525",
   "metadata": {},
   "outputs": [
    {
     "name": "stdout",
     "output_type": "stream",
     "text": [
      "[0.0936071  0.11887959 0.11223656]\n"
     ]
    }
   ],
   "source": [
    "#Validacion cruzada para cada modelo\n",
    "print(cross_val_score(model,x,y,cv=3))"
   ]
  },
  {
   "cell_type": "code",
   "execution_count": 11,
   "id": "fae781e5",
   "metadata": {},
   "outputs": [],
   "source": [
    "#Creacion de listas para cada algoritmo de regression\n",
    "\n",
    "algosClass=[]\n",
    "\n",
    "algosClass.append((\"Random Forest Regressor\",RandomForestRegressor()))\n",
    "\n",
    "algosClass.append((\"Linear Regression\",LinearRegression()))\n",
    "\n",
    "algosClass.append((\"Support Vector Regression\",SVR()))"
   ]
  },
  {
   "cell_type": "code",
   "execution_count": 12,
   "id": "1a4ec1a2",
   "metadata": {},
   "outputs": [
    {
     "name": "stdout",
     "output_type": "stream",
     "text": [
      "Random Forest Regressor 0.17241924944483422\n",
      "Linear Regression 0.10824108525601357\n",
      "Support Vector Regression 0.1239847810059694\n"
     ]
    }
   ],
   "source": [
    "#Algoritmo para obtener r2 al cuadrado paraa cada modelo de regresion\n",
    "results=[]\n",
    "names=[]\n",
    "\n",
    "for name, model in algosClass:\n",
    "        result=cross_val_score(model,x,y,cv=3,scoring=\"r2\")\n",
    "        names.append(name)\n",
    "        results.append(result)\n",
    "        \n",
    "for i in range (len(names)):\n",
    "    print(names[i],results[i].mean())"
   ]
  },
  {
   "cell_type": "code",
   "execution_count": 13,
   "id": "d70d5bf0",
   "metadata": {},
   "outputs": [
    {
     "name": "stdout",
     "output_type": "stream",
     "text": [
      "(24000, 6) (6000, 6) (24000,) (6000,)\n"
     ]
    }
   ],
   "source": [
    "#Division del set datos en 20% en test y 80% en train\n",
    "x_train, x_test, y_train, y_test = train_test_split(x, y, test_size=0.20)\n",
    "print(x_train.shape, x_test.shape, y_train.shape, y_test.shape)"
   ]
  },
  {
   "cell_type": "code",
   "execution_count": 14,
   "id": "ffdb5610",
   "metadata": {},
   "outputs": [],
   "source": [
    "#Seleccion de modelo y puesta de variables de entrenamiento\n",
    "algo=RandomForestRegressor()\n",
    "\n",
    "models=algo.fit(x_train,y_train)"
   ]
  },
  {
   "cell_type": "code",
   "execution_count": 15,
   "id": "13b7a7ed",
   "metadata": {},
   "outputs": [],
   "source": [
    "#Puesta en marcha de predicciones del modelo\n",
    "predictions=models.predict(x_test)"
   ]
  },
  {
   "cell_type": "code",
   "execution_count": 16,
   "id": "cff7abf4",
   "metadata": {},
   "outputs": [],
   "source": [
    "#Importacion de librerias de metricas MSE (error cuadratico medio) Y R2 (error cuadratico)\n",
    "from sklearn.metrics import mean_squared_error\n",
    "from sklearn.metrics import r2_score\n",
    "from math import sqrt"
   ]
  },
  {
   "cell_type": "code",
   "execution_count": 17,
   "id": "dd67238a",
   "metadata": {},
   "outputs": [],
   "source": [
    "#Algoritmo para calcular RMSE (Raiz del erro cuadratico medio (MSE)) y comparar las predicciones\n",
    "rmse=sqrt(mean_squared_error(y_test,predictions))"
   ]
  },
  {
   "cell_type": "code",
   "execution_count": 18,
   "id": "841104b3",
   "metadata": {},
   "outputs": [],
   "source": [
    "#Algoritmo para comparar las predcciones con r2\n",
    "predRsquared=r2_score(y_test,predictions)"
   ]
  },
  {
   "cell_type": "code",
   "execution_count": 19,
   "id": "d14f16a3",
   "metadata": {},
   "outputs": [
    {
     "name": "stdout",
     "output_type": "stream",
     "text": [
      "R squared: 0.182\n",
      "RMSE:0.378\n"
     ]
    }
   ],
   "source": [
    "print(\"R squared: %.3f\" % predRsquared)\n",
    "print(\"RMSE:%.3f\" % rmse)"
   ]
  },
  {
   "cell_type": "code",
   "execution_count": 20,
   "id": "4baf456c",
   "metadata": {},
   "outputs": [
    {
     "data": {
      "image/png": "[encoded data removed]",
      "text/plain": [
       "<Figure size 432x288 with 1 Axes>"
      ]
     },
     "metadata": {
      "needs_background": "light"
     },
     "output_type": "display_data"
    }
   ],
   "source": [
    "import matplotlib.pyplot as plt\n",
    "%matplotlib inline\n",
    "\n",
    "plt.scatter(x=y_test,y=predictions)\n",
    "plt.xlabel(\"Ground truth\")\n",
    "plt.ylabel(\"Predictions\")\n",
    "plt.show()"
   ]
  },
  {
   "cell_type": "code",
   "execution_count": 21,
   "id": "f5f40b99",
   "metadata": {},
   "outputs": [
    {
     "data": {
      "text/html": [
       "<div>\n",
       "<style scoped>\n",
       "    .dataframe tbody tr th:only-of-type {\n",
       "        vertical-align: middle;\n",
       "    }\n",
       "\n",
       "    .dataframe tbody tr th {\n",
       "        vertical-align: top;\n",
       "    }\n",
       "\n",
       "    .dataframe thead th {\n",
       "        text-align: right;\n",
       "    }\n",
       "</style>\n",
       "<table border=\"1\" class=\"dataframe\">\n",
       "  <thead>\n",
       "    <tr style=\"text-align: right;\">\n",
       "      <th></th>\n",
       "      <th>Actual</th>\n",
       "      <th>Predicted</th>\n",
       "    </tr>\n",
       "  </thead>\n",
       "  <tbody>\n",
       "    <tr>\n",
       "      <th>18280</th>\n",
       "      <td>0</td>\n",
       "      <td>0.895362</td>\n",
       "    </tr>\n",
       "    <tr>\n",
       "      <th>2690</th>\n",
       "      <td>0</td>\n",
       "      <td>0.846531</td>\n",
       "    </tr>\n",
       "    <tr>\n",
       "      <th>17402</th>\n",
       "      <td>1</td>\n",
       "      <td>0.895362</td>\n",
       "    </tr>\n",
       "    <tr>\n",
       "      <th>24589</th>\n",
       "      <td>1</td>\n",
       "      <td>0.905933</td>\n",
       "    </tr>\n",
       "    <tr>\n",
       "      <th>28309</th>\n",
       "      <td>1</td>\n",
       "      <td>0.864707</td>\n",
       "    </tr>\n",
       "    <tr>\n",
       "      <th>...</th>\n",
       "      <td>...</td>\n",
       "      <td>...</td>\n",
       "    </tr>\n",
       "    <tr>\n",
       "      <th>29955</th>\n",
       "      <td>1</td>\n",
       "      <td>0.649118</td>\n",
       "    </tr>\n",
       "    <tr>\n",
       "      <th>25504</th>\n",
       "      <td>1</td>\n",
       "      <td>0.895362</td>\n",
       "    </tr>\n",
       "    <tr>\n",
       "      <th>12849</th>\n",
       "      <td>1</td>\n",
       "      <td>0.864707</td>\n",
       "    </tr>\n",
       "    <tr>\n",
       "      <th>26315</th>\n",
       "      <td>1</td>\n",
       "      <td>0.649118</td>\n",
       "    </tr>\n",
       "    <tr>\n",
       "      <th>7977</th>\n",
       "      <td>0</td>\n",
       "      <td>0.017500</td>\n",
       "    </tr>\n",
       "  </tbody>\n",
       "</table>\n",
       "<p>6000 rows × 2 columns</p>\n",
       "</div>"
      ],
      "text/plain": [
       "       Actual  Predicted\n",
       "18280       0   0.895362\n",
       "2690        0   0.846531\n",
       "17402       1   0.895362\n",
       "24589       1   0.905933\n",
       "28309       1   0.864707\n",
       "...       ...        ...\n",
       "29955       1   0.649118\n",
       "25504       1   0.895362\n",
       "12849       1   0.864707\n",
       "26315       1   0.649118\n",
       "7977        0   0.017500\n",
       "\n",
       "[6000 rows x 2 columns]"
      ]
     },
     "execution_count": 21,
     "metadata": {},
     "output_type": "execute_result"
    }
   ],
   "source": [
    "rawData2 = pd.DataFrame({'Actual': y_test, 'Predicted': predictions})\n",
    "rawData2"
   ]
  },
  {
   "cell_type": "code",
   "execution_count": 22,
   "id": "d52f8215",
   "metadata": {},
   "outputs": [
    {
     "data": {
      "image/png": "[encoded data removed]",
      "text/plain": [
       "<Figure size 1152x504 with 1 Axes>"
      ]
     },
     "metadata": {
      "needs_background": "light"
     },
     "output_type": "display_data"
    }
   ],
   "source": [
    "rawData3 = rawData2.head(25)\n",
    "rawData3.plot(kind='bar',figsize=(16,7))\n",
    "plt.grid(which='major', linestyle='-', linewidth='0.5', color='green')\n",
    "plt.grid(which='minor', linestyle=':', linewidth='0.5', color='black')\n",
    "plt.show()"
   ]
  },
  {
   "cell_type": "code",
   "execution_count": null,
   "id": "0c92dec7",
   "metadata": {},
   "outputs": [],
   "source": []
  }
 ],
 "metadata": {
  "kernelspec": {
   "display_name": "Python 3 (ipykernel)",
   "language": "python",
   "name": "python3"
  },
  "language_info": {
   "codemirror_mode": {
    "name": "ipython",
    "version": 3
   },
   "file_extension": ".py",
   "mimetype": "text/x-python",
   "name": "python",
   "nbconvert_exporter": "python",
   "pygments_lexer": "ipython3",
   "version": "3.9.7"
  }
 },
 "nbformat": 4,
 "nbformat_minor": 5
}
